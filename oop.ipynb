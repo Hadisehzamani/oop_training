{
 "cells": [
  {
   "cell_type": "code",
   "execution_count": 19,
   "metadata": {},
   "outputs": [],
   "source": [
    "import csv "
   ]
  },
  {
   "cell_type": "code",
   "execution_count": 7,
   "metadata": {},
   "outputs": [],
   "source": [
    "class item:\n",
    "    all = []\n",
    "    def __init__(self, name, price, quantity):\n",
    "        assert price >= 0, f\"the value {price} is not valid for price\"\n",
    "        assert quantity >= 0, f\"the value {quantity} is not valid for quantity\"\n",
    "\n",
    "\n",
    "\n",
    "        self.name = name\n",
    "        self.price = price\n",
    "        self.quantity = quantity\n",
    "\n",
    "        item.all.append(self)\n",
    "    \n",
    "    def calculate_total_price(self):\n",
    "        return self.price * self.quantity\n",
    "    \n",
    "    @classmethod\n",
    "    def instantiate_from_csv(cls):\n",
    "        with open('csvFile.csv', 'r') as f:\n",
    "            reader = csv.DictReader(f)\n",
    "            items = list(reader)\n",
    "\n",
    "        for x in items:\n",
    "            item(\n",
    "                name = x.get('name'),\n",
    "                price = int(x.get('price')),\n",
    "                quantity = int(x.get('quantity'))\n",
    "            )\n",
    "\n",
    "    def __repr__(self):\n",
    "        return f\"{self.__class__.__name__}('{self.name}', {self.price}, {self.quantity})\""
   ]
  },
  {
   "cell_type": "code",
   "execution_count": 13,
   "metadata": {},
   "outputs": [
    {
     "name": "stdout",
     "output_type": "stream",
     "text": [
      "1000\n"
     ]
    }
   ],
   "source": [
    "class phone(item):\n",
    "    def __init__(self, name, price, quantity, broken_phone=1):\n",
    "        super().__init__(name, price, quantity)\n",
    "        self.broken_phone = broken_phone\n",
    "\n",
    "phone1 = phone('hadiseh', 200, 5, 1)\n",
    "item1 = item(\"ali\", 300, 4)\n",
    "print(phone1.calculate_total_price())"
   ]
  },
  {
   "cell_type": "code",
   "execution_count": 14,
   "metadata": {},
   "outputs": [
    {
     "name": "stdout",
     "output_type": "stream",
     "text": [
      "[phone('hadiseh', 200, 5), phone('hadiseh', 200, 5), phone('hadiseh', 200, 5), item('ali', 300, 4), phone('hadiseh', 200, 5), item('ali', 300, 4)]\n",
      "[phone('hadiseh', 200, 5), phone('hadiseh', 200, 5), phone('hadiseh', 200, 5), item('ali', 300, 4), phone('hadiseh', 200, 5), item('ali', 300, 4)]\n"
     ]
    }
   ],
   "source": [
    "print(item.all)\n",
    "print(phone.all)"
   ]
  }
 ],
 "metadata": {
  "kernelspec": {
   "display_name": "Python 3",
   "language": "python",
   "name": "python3"
  },
  "language_info": {
   "codemirror_mode": {
    "name": "ipython",
    "version": 3
   },
   "file_extension": ".py",
   "mimetype": "text/x-python",
   "name": "python",
   "nbconvert_exporter": "python",
   "pygments_lexer": "ipython3",
   "version": "3.12.2"
  }
 },
 "nbformat": 4,
 "nbformat_minor": 2
}
